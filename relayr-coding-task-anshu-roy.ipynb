{
 "cells": [
  {
   "cell_type": "markdown",
   "metadata": {},
   "source": [
    "### Relayr | Data Scientist | Coding task\n",
    "\n",
    "\n",
    "#### - By Anshu Roy\n"
   ]
  },
  {
   "cell_type": "markdown",
   "metadata": {},
   "source": [
    "#### <u>Step 1</u> - Define the layout of the standard push button telephone with 12 buttons in a matrix configuration \n",
    "#### assuming digit 0 is at position (0,0) and digit 5 is at position (1,1)"
   ]
  },
  {
   "cell_type": "code",
   "execution_count": 183,
   "metadata": {},
   "outputs": [],
   "source": [
    "import numpy as np\n",
    "\n",
    "# Arrange the keypad matrix with numbers\n",
    "keypad =np.array([[1,2,3],[4,5,6],[7,8,9],[\"*\",0,\"#\"]])"
   ]
  },
  {
   "cell_type": "markdown",
   "metadata": {},
   "source": [
    "#### <u>Step 2</u> - Define the Euclidean distance matrix between any two digits on the push button telephone."
   ]
  },
  {
   "cell_type": "code",
   "execution_count": 199,
   "metadata": {},
   "outputs": [],
   "source": [
    "from sklearn.metrics.pairwise import euclidean_distances\n",
    "\n",
    "#Define a method to get Euclidean distance between two points of the matrix\n",
    "def get_distance(A, B):\n",
    "    coA = get_coordinates(A)\n",
    "    coB = get_coordinates(B)\n",
    "    dist = euclidean_distances(coA, coB)\n",
    "    return dist[0,0]\n",
    "\n",
    "# Get co-ordinates of the digit from the keypad matrix\n",
    "def get_coordinates(X):\n",
    "    coX = np.argwhere(keypad == X)\n",
    "    return coX   "
   ]
  },
  {
   "cell_type": "markdown",
   "metadata": {},
   "source": [
    "#### <u>Step 3</u> - Compute the algorithm for laziest path with minimum cost "
   ]
  },
  {
   "cell_type": "code",
   "execution_count": 224,
   "metadata": {},
   "outputs": [],
   "source": [
    "#Laziest algorithm to compute the shortest distance to dial a phone number using two fingers.\n",
    "\n",
    "def compute_laziest_path(telephone_number):\n",
    "    final = [(\"*\",\"#\")]\n",
    "    total_distance = 0\n",
    "    \n",
    "    # Loop through the entered telpehone number of size n.\n",
    "    for i in range(0, len(telephone_number)):\n",
    "        \n",
    "        # Check the least distance between the first digit of telpehone_number and the two fingers placed at * and # to find the first stroke.\n",
    "        if(i == 0):\n",
    "            if(get_distance(\"*\",telephone_number[i]) < get_distance(\"#\",telephone_number[i])):\n",
    "                final.append((telephone_number[i],\"#\"))\n",
    "                total_distance = get_distance(\"*\",telephone_number[i])\n",
    "            else:\n",
    "                final.append((\"*\",telephone_number[i]))\n",
    "                total_distance = get_distance(\"#\",telephone_number[i])\n",
    "        \n",
    "        # Store the last key stroke and use it to calculate the minimum distance between last key strokes and new digit of the telphone number. \n",
    "        else:\n",
    "            lastElement = final[-1]\n",
    "            if(get_distance(lastElement[0],telephone_number[i]) < get_distance(lastElement[1],telephone_number[i])):\n",
    "                final.append((telephone_number[i],lastElement[1]))\n",
    "                total_distance= total_distance + get_distance(lastElement[0],telephone_number[i])\n",
    "            else:\n",
    "                   final.append((lastElement[0],telephone_number[i]))\n",
    "                   total_distance = total_distance + get_distance(lastElement[1],telephone_number[i])\n",
    "    \n",
    "    # Combine the total distance with the list of key strokes to generate the final output.\n",
    "    final.insert(0, total_distance)  \n",
    "    return final "
   ]
  },
  {
   "cell_type": "code",
   "execution_count": 225,
   "metadata": {},
   "outputs": [
    {
     "name": "stdout",
     "output_type": "stream",
     "text": [
      "[4.0, ('*', '#'), ('1', '#'), ('1', '#'), ('1', '0')]\n"
     ]
    }
   ],
   "source": [
    "print(compute_laziest_path(\"110\"))"
   ]
  },
  {
   "cell_type": "markdown",
   "metadata": {},
   "source": [
    "#### <u>Step 4</u> - The time complexity of the above solution is O(nk^3) if n= length of telpehone number and k = number of keys on the keypad.\n",
    "####                     Space complexity is also linear O(n)"
   ]
  }
 ],
 "metadata": {
  "kernel_info": {
   "name": "python3-azureml"
  },
  "kernelspec": {
   "display_name": "Python 3.6 - AzureML",
   "language": "python",
   "name": "python3-azureml"
  },
  "language_info": {
   "codemirror_mode": {
    "name": "ipython",
    "version": 3
   },
   "file_extension": ".py",
   "mimetype": "text/x-python",
   "name": "python",
   "nbconvert_exporter": "python",
   "pygments_lexer": "ipython3",
   "version": "3.6.9"
  },
  "nteract": {
   "version": "nteract-front-end@1.0.0"
  }
 },
 "nbformat": 4,
 "nbformat_minor": 4
}
